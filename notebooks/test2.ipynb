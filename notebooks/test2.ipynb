{
 "cells": [
  {
   "cell_type": "code",
   "execution_count": null,
   "metadata": {},
   "outputs": [
    {
     "name": "stdout",
     "output_type": "stream",
     "text": [
      "Loaded CT scan: 121 slices, dimensions: 512x512\n"
     ]
    },
    {
     "data": {
      "application/vnd.jupyter.widget-view+json": {
       "model_id": "5d4303deb4e84a6284f7965ec828937d",
       "version_major": 2,
       "version_minor": 0
      },
      "text/plain": [
       "interactive(children=(IntSlider(value=60, description='slice_idx', max=120), Output()), _dom_classes=('widget-…"
      ]
     },
     "metadata": {},
     "output_type": "display_data"
    }
   ],
   "source": [
    "import SimpleITK as sitk\n",
    "import numpy as np\n",
    "import matplotlib.pyplot as plt\n",
    "from ipywidgets import interact\n",
    "\n",
    "def load_mhd(file_path):\n",
    "    \"\"\"\n",
    "    Load an .mhd file using SimpleITK.\n",
    "    \n",
    "    Parameters:\n",
    "    - file_path (str): Path to the .mhd file.\n",
    "    \n",
    "    Returns:\n",
    "    - numpy array of the CT scan.\n",
    "    \"\"\"\n",
    "    try:\n",
    "        # Load the .mhd file using SimpleITK\n",
    "        image = sitk.ReadImage(file_path)\n",
    "        array = sitk.GetArrayFromImage(image)  # Convert to NumPy array\n",
    "        print(f\"Loaded CT scan: {array.shape[0]} slices, dimensions: {array.shape[1]}x{array.shape[2]}\")\n",
    "        return array\n",
    "    except Exception as e:\n",
    "        print(f\"Error loading .mhd file: {e}\")\n",
    "        return None\n",
    "\n",
    "def visualize_ct_slices(ct_array):\n",
    "    \"\"\"\n",
    "    Visualize slices of a 3D CT scan interactively.\n",
    "    \n",
    "    Parameters:\n",
    "    - ct_array (numpy array): 3D array representing the CT scan.\n",
    "    \"\"\"\n",
    "    if ct_array is None:\n",
    "        print(\"No CT array to visualize.\")\n",
    "        return\n",
    "\n",
    "    def show_slice(slice_idx):\n",
    "        plt.figure(figsize=(6, 6))\n",
    "        plt.imshow(ct_array[slice_idx], cmap='gray')\n",
    "        plt.title(f\"Slice {slice_idx + 1}/{ct_array.shape[0]}\")\n",
    "        plt.axis('off')\n",
    "        plt.show()\n",
    "    \n",
    "    interact(show_slice, slice_idx=(0, ct_array.shape[0] - 1))\n",
    "\n",
    "# Example usage:\n",
    "# Replace 'path_to_your_file.mhd' with the path to your .mhd file\n",
    "file_path = \"./Luna16-Data/subset0/1.3.6.1.4.1.14519.5.2.1.6279.6001.105756658031515062000744821260.mhd\"\n",
    "ct_array = load_mhd(file_path)\n",
    "visualize_ct_slices(ct_array)\n"
   ]
  },
  {
   "cell_type": "code",
   "execution_count": null,
   "metadata": {},
   "outputs": [
    {
     "name": "stdout",
     "output_type": "stream",
     "text": [
      "Loaded CT scan: 119 slices, dimensions: 512x512\n"
     ]
    },
    {
     "data": {
      "application/vnd.jupyter.widget-view+json": {
       "model_id": "d818edfca2694584ba223ef597eb2c14",
       "version_major": 2,
       "version_minor": 0
      },
      "text/plain": [
       "interactive(children=(IntSlider(value=59, description='slice_idx', max=118), Output()), _dom_classes=('widget-…"
      ]
     },
     "metadata": {},
     "output_type": "display_data"
    }
   ],
   "source": [
    "file_path = \"./Luna16-Data/subset0/1.3.6.1.4.1.14519.5.2.1.6279.6001.108197895896446896160048741492.mhd\"\n",
    "ct_array = load_mhd(file_path)\n",
    "visualize_ct_slices(ct_array)"
   ]
  },
  {
   "cell_type": "code",
   "execution_count": null,
   "metadata": {},
   "outputs": [],
   "source": []
  }
 ],
 "metadata": {
  "kernelspec": {
   "display_name": "test",
   "language": "python",
   "name": "python3"
  },
  "language_info": {
   "codemirror_mode": {
    "name": "ipython",
    "version": 3
   },
   "file_extension": ".py",
   "mimetype": "text/x-python",
   "name": "python",
   "nbconvert_exporter": "python",
   "pygments_lexer": "ipython3",
   "version": "3.10.15"
  }
 },
 "nbformat": 4,
 "nbformat_minor": 2
}
