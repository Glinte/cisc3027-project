{
 "cells": [
  {
   "metadata": {
    "ExecuteTime": {
     "end_time": "2024-11-24T08:11:19.314928Z",
     "start_time": "2024-11-24T08:11:15.814292Z"
    }
   },
   "cell_type": "code",
   "source": [
    "import pandas as pd\n",
    "import numpy as np\n",
    "import matplotlib.pyplot as plt\n",
    "from torchvision import tv_tensors\n",
    "import torch\n",
    "from torch import nn\n",
    "from torchvision.transforms import v2\n",
    "\n",
    "from project.config import PROJECT_ROOT"
   ],
   "id": "45f6756f29a3e868",
   "outputs": [],
   "execution_count": 1
  },
  {
   "metadata": {
    "ExecuteTime": {
     "end_time": "2024-11-24T08:11:19.616857Z",
     "start_time": "2024-11-24T08:11:19.321543Z"
    }
   },
   "cell_type": "code",
   "source": [
    "from project.data.cvc_clinic import ClinicDB\n",
    "\n",
    "transforms = v2.Compose([\n",
    "    # v2.RandomPhotometricDistort(p=1),\n",
    "    v2.RandomZoomOut(),\n",
    "    v2.RandomIoUCrop(),\n",
    "    v2.RandomHorizontalFlip(p=1),\n",
    "    v2.SanitizeBoundingBoxes(),\n",
    "    v2.ToDtype(torch.float32, scale=True),\n",
    "    v2.Normalize(mean=[0.485, 0.456, 0.406], std=[0.229, 0.224, 0.225]),\n",
    "])\n",
    "\n",
    "transforms"
   ],
   "id": "2e27c062bce0a267",
   "outputs": [
    {
     "data": {
      "text/plain": [
       "Compose(\n",
       "      RandomZoomOut(p=0.5, fill=0, side_range=(1.0, 4.0))\n",
       "      RandomIoUCrop(min_scale=0.3, max_scale=1.0, min_aspect_ratio=0.5, max_aspect_ratio=2.0, options=[0.0, 0.1, 0.3, 0.5, 0.7, 0.9, 1.0], trials=40)\n",
       "      RandomHorizontalFlip(p=1)\n",
       "      SanitizeBoundingBoxes(min_size=1.0, min_area=1.0, labels_getter=default)\n",
       "      ToDtype(scale=True)\n",
       "      Normalize(mean=[0.485, 0.456, 0.406], std=[0.229, 0.224, 0.225], inplace=False)\n",
       ")"
      ]
     },
     "execution_count": 2,
     "metadata": {},
     "output_type": "execute_result"
    }
   ],
   "execution_count": 2
  },
  {
   "metadata": {
    "ExecuteTime": {
     "end_time": "2024-11-24T08:11:20.571133Z",
     "start_time": "2024-11-24T08:11:19.845376Z"
    }
   },
   "cell_type": "code",
   "source": [
    "dataset = ClinicDB(PROJECT_ROOT / \"data\", split=\"train\", transforms=transforms)\n",
    "dataset.data.shape"
   ],
   "id": "53b61747e8ffa344",
   "outputs": [
    {
     "data": {
      "text/plain": [
       "(428, 288, 384, 3)"
      ]
     },
     "execution_count": 3,
     "metadata": {},
     "output_type": "execute_result"
    }
   ],
   "execution_count": 3
  },
  {
   "metadata": {
    "ExecuteTime": {
     "end_time": "2024-11-24T08:11:20.645348Z",
     "start_time": "2024-11-24T08:11:20.641171Z"
    }
   },
   "cell_type": "code",
   "source": [
    "train_loader = dataset.get_loader(batch_size=5, shuffle=True)\n",
    "train_loader"
   ],
   "id": "1ee0c5eb6b61ae54",
   "outputs": [
    {
     "data": {
      "text/plain": [
       "<torch.utils.data.dataloader.DataLoader at 0x26e766bef30>"
      ]
     },
     "execution_count": 4,
     "metadata": {},
     "output_type": "execute_result"
    }
   ],
   "execution_count": 4
  },
  {
   "metadata": {
    "ExecuteTime": {
     "end_time": "2024-11-24T08:11:21.155835Z",
     "start_time": "2024-11-24T08:11:20.718643Z"
    }
   },
   "cell_type": "code",
   "source": [
    "for i, (data, target) in enumerate(train_loader):\n",
    "    print(data.shape)\n",
    "    print(type(data), type(target))\n",
    "    print(data.dtype)\n",
    "    plt.imshow(data[0].numpy())\n",
    "    plt.show()\n",
    "    plt.imshow(target[\"masks\"][0].numpy(), cmap=\"gray\")\n",
    "    plt.show()\n",
    "    break"
   ],
   "id": "ca265dd0c35457b3",
   "outputs": [
    {
     "ename": "ValueError",
     "evalue": "not enough values to unpack (expected 2, got 1)",
     "output_type": "error",
     "traceback": [
      "\u001B[1;31m---------------------------------------------------------------------------\u001B[0m",
      "\u001B[1;31mValueError\u001B[0m                                Traceback (most recent call last)",
      "Cell \u001B[1;32mIn[5], line 1\u001B[0m\n\u001B[1;32m----> 1\u001B[0m \u001B[38;5;28;43;01mfor\u001B[39;49;00m\u001B[43m \u001B[49m\u001B[43mi\u001B[49m\u001B[43m,\u001B[49m\u001B[43m \u001B[49m\u001B[43m(\u001B[49m\u001B[43mdata\u001B[49m\u001B[43m,\u001B[49m\u001B[43m \u001B[49m\u001B[43mtarget\u001B[49m\u001B[43m)\u001B[49m\u001B[43m \u001B[49m\u001B[38;5;129;43;01min\u001B[39;49;00m\u001B[43m \u001B[49m\u001B[38;5;28;43menumerate\u001B[39;49m\u001B[43m(\u001B[49m\u001B[43mtrain_loader\u001B[49m\u001B[43m)\u001B[49m\u001B[43m:\u001B[49m\n\u001B[0;32m      2\u001B[0m \u001B[43m    \u001B[49m\u001B[38;5;28;43mprint\u001B[39;49m\u001B[43m(\u001B[49m\u001B[43mdata\u001B[49m\u001B[38;5;241;43m.\u001B[39;49m\u001B[43mshape\u001B[49m\u001B[43m)\u001B[49m\n\u001B[0;32m      3\u001B[0m \u001B[43m    \u001B[49m\u001B[38;5;28;43mprint\u001B[39;49m\u001B[43m(\u001B[49m\u001B[38;5;28;43mtype\u001B[39;49m\u001B[43m(\u001B[49m\u001B[43mdata\u001B[49m\u001B[43m)\u001B[49m\u001B[43m,\u001B[49m\u001B[43m \u001B[49m\u001B[38;5;28;43mtype\u001B[39;49m\u001B[43m(\u001B[49m\u001B[43mtarget\u001B[49m\u001B[43m)\u001B[49m\u001B[43m)\u001B[49m\n",
      "File \u001B[1;32mD:\\Code\\CISC3027\\project\\.venv\\Lib\\site-packages\\torch\\utils\\data\\dataloader.py:701\u001B[0m, in \u001B[0;36m_BaseDataLoaderIter.__next__\u001B[1;34m(self)\u001B[0m\n\u001B[0;32m    698\u001B[0m \u001B[38;5;28;01mif\u001B[39;00m \u001B[38;5;28mself\u001B[39m\u001B[38;5;241m.\u001B[39m_sampler_iter \u001B[38;5;129;01mis\u001B[39;00m \u001B[38;5;28;01mNone\u001B[39;00m:\n\u001B[0;32m    699\u001B[0m     \u001B[38;5;66;03m# TODO(https://github.com/pytorch/pytorch/issues/76750)\u001B[39;00m\n\u001B[0;32m    700\u001B[0m     \u001B[38;5;28mself\u001B[39m\u001B[38;5;241m.\u001B[39m_reset()  \u001B[38;5;66;03m# type: ignore[call-arg]\u001B[39;00m\n\u001B[1;32m--> 701\u001B[0m data \u001B[38;5;241m=\u001B[39m \u001B[38;5;28;43mself\u001B[39;49m\u001B[38;5;241;43m.\u001B[39;49m\u001B[43m_next_data\u001B[49m\u001B[43m(\u001B[49m\u001B[43m)\u001B[49m\n\u001B[0;32m    702\u001B[0m \u001B[38;5;28mself\u001B[39m\u001B[38;5;241m.\u001B[39m_num_yielded \u001B[38;5;241m+\u001B[39m\u001B[38;5;241m=\u001B[39m \u001B[38;5;241m1\u001B[39m\n\u001B[0;32m    703\u001B[0m \u001B[38;5;28;01mif\u001B[39;00m (\n\u001B[0;32m    704\u001B[0m     \u001B[38;5;28mself\u001B[39m\u001B[38;5;241m.\u001B[39m_dataset_kind \u001B[38;5;241m==\u001B[39m _DatasetKind\u001B[38;5;241m.\u001B[39mIterable\n\u001B[0;32m    705\u001B[0m     \u001B[38;5;129;01mand\u001B[39;00m \u001B[38;5;28mself\u001B[39m\u001B[38;5;241m.\u001B[39m_IterableDataset_len_called \u001B[38;5;129;01mis\u001B[39;00m \u001B[38;5;129;01mnot\u001B[39;00m \u001B[38;5;28;01mNone\u001B[39;00m\n\u001B[0;32m    706\u001B[0m     \u001B[38;5;129;01mand\u001B[39;00m \u001B[38;5;28mself\u001B[39m\u001B[38;5;241m.\u001B[39m_num_yielded \u001B[38;5;241m>\u001B[39m \u001B[38;5;28mself\u001B[39m\u001B[38;5;241m.\u001B[39m_IterableDataset_len_called\n\u001B[0;32m    707\u001B[0m ):\n",
      "File \u001B[1;32mD:\\Code\\CISC3027\\project\\.venv\\Lib\\site-packages\\torch\\utils\\data\\dataloader.py:757\u001B[0m, in \u001B[0;36m_SingleProcessDataLoaderIter._next_data\u001B[1;34m(self)\u001B[0m\n\u001B[0;32m    755\u001B[0m \u001B[38;5;28;01mdef\u001B[39;00m \u001B[38;5;21m_next_data\u001B[39m(\u001B[38;5;28mself\u001B[39m):\n\u001B[0;32m    756\u001B[0m     index \u001B[38;5;241m=\u001B[39m \u001B[38;5;28mself\u001B[39m\u001B[38;5;241m.\u001B[39m_next_index()  \u001B[38;5;66;03m# may raise StopIteration\u001B[39;00m\n\u001B[1;32m--> 757\u001B[0m     data \u001B[38;5;241m=\u001B[39m \u001B[38;5;28;43mself\u001B[39;49m\u001B[38;5;241;43m.\u001B[39;49m\u001B[43m_dataset_fetcher\u001B[49m\u001B[38;5;241;43m.\u001B[39;49m\u001B[43mfetch\u001B[49m\u001B[43m(\u001B[49m\u001B[43mindex\u001B[49m\u001B[43m)\u001B[49m  \u001B[38;5;66;03m# may raise StopIteration\u001B[39;00m\n\u001B[0;32m    758\u001B[0m     \u001B[38;5;28;01mif\u001B[39;00m \u001B[38;5;28mself\u001B[39m\u001B[38;5;241m.\u001B[39m_pin_memory:\n\u001B[0;32m    759\u001B[0m         data \u001B[38;5;241m=\u001B[39m _utils\u001B[38;5;241m.\u001B[39mpin_memory\u001B[38;5;241m.\u001B[39mpin_memory(data, \u001B[38;5;28mself\u001B[39m\u001B[38;5;241m.\u001B[39m_pin_memory_device)\n",
      "File \u001B[1;32mD:\\Code\\CISC3027\\project\\.venv\\Lib\\site-packages\\torch\\utils\\data\\_utils\\fetch.py:52\u001B[0m, in \u001B[0;36m_MapDatasetFetcher.fetch\u001B[1;34m(self, possibly_batched_index)\u001B[0m\n\u001B[0;32m     50\u001B[0m         data \u001B[38;5;241m=\u001B[39m \u001B[38;5;28mself\u001B[39m\u001B[38;5;241m.\u001B[39mdataset\u001B[38;5;241m.\u001B[39m__getitems__(possibly_batched_index)\n\u001B[0;32m     51\u001B[0m     \u001B[38;5;28;01melse\u001B[39;00m:\n\u001B[1;32m---> 52\u001B[0m         data \u001B[38;5;241m=\u001B[39m [\u001B[38;5;28;43mself\u001B[39;49m\u001B[38;5;241;43m.\u001B[39;49m\u001B[43mdataset\u001B[49m\u001B[43m[\u001B[49m\u001B[43midx\u001B[49m\u001B[43m]\u001B[49m \u001B[38;5;28;01mfor\u001B[39;00m idx \u001B[38;5;129;01min\u001B[39;00m possibly_batched_index]\n\u001B[0;32m     53\u001B[0m \u001B[38;5;28;01melse\u001B[39;00m:\n\u001B[0;32m     54\u001B[0m     data \u001B[38;5;241m=\u001B[39m \u001B[38;5;28mself\u001B[39m\u001B[38;5;241m.\u001B[39mdataset[possibly_batched_index]\n",
      "File \u001B[1;32mD:\\Code\\CISC3027\\project\\src\\project\\data\\cvc_clinic.py:100\u001B[0m, in \u001B[0;36mClinicDB.__getitem__\u001B[1;34m(self, index)\u001B[0m\n\u001B[0;32m     96\u001B[0m img, target \u001B[38;5;241m=\u001B[39m \u001B[38;5;28mself\u001B[39m\u001B[38;5;241m.\u001B[39mdata[index], \u001B[38;5;28mself\u001B[39m\u001B[38;5;241m.\u001B[39mtargets[index]\n\u001B[0;32m     97\u001B[0m img \u001B[38;5;241m=\u001B[39m tv_tensors\u001B[38;5;241m.\u001B[39mImage(img)\n\u001B[0;32m     98\u001B[0m target \u001B[38;5;241m=\u001B[39m {\n\u001B[0;32m     99\u001B[0m     \u001B[38;5;124m\"\u001B[39m\u001B[38;5;124mmasks\u001B[39m\u001B[38;5;124m\"\u001B[39m: tv_tensors\u001B[38;5;241m.\u001B[39mMask(target),\n\u001B[1;32m--> 100\u001B[0m     \u001B[38;5;124m\"\u001B[39m\u001B[38;5;124mbbox\u001B[39m\u001B[38;5;124m\"\u001B[39m: tv_tensors\u001B[38;5;241m.\u001B[39mBoundingBoxes(\u001B[43mmask_to_xyxy\u001B[49m\u001B[43m(\u001B[49m\u001B[43mtorch\u001B[49m\u001B[38;5;241;43m.\u001B[39;49m\u001B[43mtensor\u001B[49m\u001B[43m(\u001B[49m\u001B[43mtarget\u001B[49m\u001B[43m)\u001B[49m\u001B[43m)\u001B[49m, \u001B[38;5;28mformat\u001B[39m\u001B[38;5;241m=\u001B[39mBoundingBoxFormat\u001B[38;5;241m.\u001B[39mXYXY, canvas_size\u001B[38;5;241m=\u001B[39mimg\u001B[38;5;241m.\u001B[39msize)\n\u001B[0;32m    101\u001B[0m }\n\u001B[0;32m    103\u001B[0m \u001B[38;5;28;01mif\u001B[39;00m \u001B[38;5;28mself\u001B[39m\u001B[38;5;241m.\u001B[39mtransforms \u001B[38;5;129;01mis\u001B[39;00m \u001B[38;5;129;01mnot\u001B[39;00m \u001B[38;5;28;01mNone\u001B[39;00m:\n\u001B[0;32m    104\u001B[0m     img, target \u001B[38;5;241m=\u001B[39m \u001B[38;5;28mself\u001B[39m\u001B[38;5;241m.\u001B[39mtransforms(img, target)\n",
      "File \u001B[1;32mD:\\Code\\CISC3027\\project\\.venv\\Lib\\site-packages\\supervision\\detection\\utils.py:361\u001B[0m, in \u001B[0;36mmask_to_xyxy\u001B[1;34m(masks)\u001B[0m\n\u001B[0;32m    358\u001B[0m xyxy \u001B[38;5;241m=\u001B[39m np\u001B[38;5;241m.\u001B[39mzeros((n, \u001B[38;5;241m4\u001B[39m), dtype\u001B[38;5;241m=\u001B[39m\u001B[38;5;28mint\u001B[39m)\n\u001B[0;32m    360\u001B[0m \u001B[38;5;28;01mfor\u001B[39;00m i, mask \u001B[38;5;129;01min\u001B[39;00m \u001B[38;5;28menumerate\u001B[39m(masks):\n\u001B[1;32m--> 361\u001B[0m     rows, cols \u001B[38;5;241m=\u001B[39m np\u001B[38;5;241m.\u001B[39mwhere(mask)\n\u001B[0;32m    363\u001B[0m     \u001B[38;5;28;01mif\u001B[39;00m \u001B[38;5;28mlen\u001B[39m(rows) \u001B[38;5;241m>\u001B[39m \u001B[38;5;241m0\u001B[39m \u001B[38;5;129;01mand\u001B[39;00m \u001B[38;5;28mlen\u001B[39m(cols) \u001B[38;5;241m>\u001B[39m \u001B[38;5;241m0\u001B[39m:\n\u001B[0;32m    364\u001B[0m         x_min, x_max \u001B[38;5;241m=\u001B[39m np\u001B[38;5;241m.\u001B[39mmin(cols), np\u001B[38;5;241m.\u001B[39mmax(cols)\n",
      "\u001B[1;31mValueError\u001B[0m: not enough values to unpack (expected 2, got 1)"
     ]
    }
   ],
   "execution_count": 5
  },
  {
   "metadata": {},
   "cell_type": "code",
   "outputs": [],
   "execution_count": null,
   "source": [
    "# Intersection over Union (IoU) loss\n",
    "class IoULoss(nn.Module):\n",
    "    def __init__(self, weight=None, size_average=True):\n",
    "        super(IoULoss, self).__init__()\n",
    "\n",
    "    def forward(self, inputs, targets):\n",
    "        # Sigmoid activation\n",
    "        inputs = torch.sigmoid(inputs)\n",
    "        \n",
    "        # Flattening\n",
    "        inputs = inputs.view(-1)\n",
    "        targets = targets.view(-1)\n",
    "        \n",
    "        # Intersection\n",
    "        intersection = (inputs * targets).sum()\n",
    "        \n",
    "        # Union\n",
    "        total = (inputs + targets).sum()\n",
    "        \n",
    "        # IoU\n",
    "        IoU = (intersection + 1e-8) / (total - intersection + 1e-8)\n",
    "        \n",
    "        return (1 - IoU) * 100  # Scale to 0-100 to make it more interpretable"
   ],
   "id": "229433ba0d454008"
  },
  {
   "metadata": {},
   "cell_type": "code",
   "outputs": [],
   "execution_count": null,
   "source": [
    "from project.unet import UNet\n",
    "\n",
    "model = UNet(n_channels=3, n_classes=1).to(\"cuda\")\n",
    "criterion = IoULoss()\n",
    "optimizer = torch.optim.Adam(model.parameters())"
   ],
   "id": "6bd91f5aa1f26c81"
  },
  {
   "metadata": {},
   "cell_type": "code",
   "outputs": [],
   "execution_count": null,
   "source": [
    "for epoch in range(100):\n",
    "    model.train()\n",
    "    for i, (data, target) in enumerate(train_loader):\n",
    "        data, target = data.to(\"cuda\"), target.to(\"cuda\")\n",
    "        \n",
    "        optimizer.zero_grad()\n",
    "        output = model(data)\n",
    "        loss = criterion(output, target)\n",
    "        loss.backward()\n",
    "        optimizer.step()\n",
    "        \n",
    "        if i % 20 == 0:\n",
    "            print(f\"Epoch {epoch}, Batch {i}, Loss: {loss.item()}\")"
   ],
   "id": "68b51aa96ff18c79"
  },
  {
   "metadata": {},
   "cell_type": "code",
   "outputs": [],
   "execution_count": null,
   "source": [
    "model.eval()\n",
    "test_set = ClinicDB(dataset_root, split=\"test\", transforms=transforms)\n",
    "test_loader = test_set.get_loader(batch_size=1, shuffle=True)\n",
    "\n",
    "for i, (data, target) in enumerate(test_loader):\n",
    "    data, target = data.to(\"cuda\"), target.to(\"cuda\")\n",
    "    output = model(data)\n",
    "    \n",
    "    plt.figure(figsize=(15, 5))\n",
    "    plt.subplot(1, 3, 1)\n",
    "    plt.imshow(data[0].cpu().numpy().transpose(1, 2, 0))\n",
    "    plt.title(\"Input\")\n",
    "    plt.axis(\"off\")\n",
    "    \n",
    "    plt.subplot(1, 3, 2)\n",
    "    \n",
    "    # Sigmoid activation\n",
    "    output = torch.sigmoid(output)\n",
    "    output = (output > 0.5).float()\n",
    "    \n",
    "    plt.imshow(output[0].cpu().numpy().transpose(1, 2, 0).squeeze(), cmap=\"gray\")\n",
    "    plt.title(\"Output\")\n",
    "    plt.axis(\"off\")\n",
    "    \n",
    "    plt.subplot(1, 3, 3)\n",
    "    plt.imshow(target[0].cpu().numpy().transpose(1, 2, 0).squeeze(), cmap=\"gray\")\n",
    "    plt.title(\"Target\")\n",
    "    plt.axis(\"off\")\n",
    "    \n",
    "    plt.show()\n",
    "    \n",
    "    if i == 5:\n",
    "        break\n",
    "    "
   ],
   "id": "48828803cb180e2a"
  },
  {
   "metadata": {},
   "cell_type": "code",
   "outputs": [],
   "execution_count": null,
   "source": [
    "from project.config import PROJECT_ROOT\n",
    "\n",
    "save_path = PROJECT_ROOT / \"models\" / \"clinicdb_unet.pth\"\n",
    "torch.save({\n",
    "    \"model\": model.state_dict(),\n",
    "    \"optimizer\": optimizer.state_dict(),\n",
    "    \"epoch\": epoch\n",
    "}, save_path)"
   ],
   "id": "befb721bcdadb3b"
  },
  {
   "metadata": {},
   "cell_type": "code",
   "outputs": [],
   "execution_count": null,
   "source": "",
   "id": "6c9fa44fdeead5b8"
  }
 ],
 "metadata": {
  "kernelspec": {
   "display_name": "Python 3",
   "language": "python",
   "name": "python3"
  },
  "language_info": {
   "codemirror_mode": {
    "name": "ipython",
    "version": 2
   },
   "file_extension": ".py",
   "mimetype": "text/x-python",
   "name": "python",
   "nbconvert_exporter": "python",
   "pygments_lexer": "ipython2",
   "version": "2.7.6"
  }
 },
 "nbformat": 4,
 "nbformat_minor": 5
}
