{
 "cells": [
  {
   "metadata": {},
   "cell_type": "code",
   "outputs": [],
   "execution_count": null,
   "source": [
    "import pandas as pd\n",
    "import numpy as np\n",
    "import matplotlib.pyplot as plt\n",
    "from torchvision import tv_tensors\n",
    "import torch\n",
    "from torch import nn\n",
    "from torchvision.transforms import v2\n",
    "\n",
    "from project.config import PROJECT_ROOT"
   ],
   "id": "45f6756f29a3e868"
  },
  {
   "metadata": {},
   "cell_type": "code",
   "outputs": [],
   "execution_count": null,
   "source": [
    "from project.data.cvc_clinic import ClinicDB\n",
    "\n",
    "transforms = v2.Compose([\n",
    "    # v2.RandomPhotometricDistort(p=1),\n",
    "    v2.RandomZoomOut(),\n",
    "    v2.RandomIoUCrop(),\n",
    "    v2.RandomHorizontalFlip(p=1),\n",
    "    v2.SanitizeBoundingBoxes(),\n",
    "    v2.ToDtype(torch.float32, scale=True),\n",
    "    v2.Normalize(mean=[0.485, 0.456, 0.406], std=[0.229, 0.224, 0.225]),\n",
    "])\n",
    "\n",
    "transforms"
   ],
   "id": "2e27c062bce0a267"
  },
  {
   "metadata": {},
   "cell_type": "code",
   "outputs": [],
   "execution_count": null,
   "source": [
    "dataset_root = \"../data/\"\n",
    "\n",
    "dataset = ClinicDB(dataset_root, split=\"train\", transforms=transforms)\n",
    "dataset.data.shape"
   ],
   "id": "53b61747e8ffa344"
  },
  {
   "metadata": {},
   "cell_type": "code",
   "outputs": [],
   "execution_count": null,
   "source": [
    "train_loader = dataset.get_loader(batch_size=5, shuffle=True)\n",
    "train_loader"
   ],
   "id": "1ee0c5eb6b61ae54"
  },
  {
   "metadata": {},
   "cell_type": "code",
   "outputs": [],
   "execution_count": null,
   "source": [
    "for i, (data, target) in enumerate(train_loader):\n",
    "    print(data.shape)\n",
    "    print(type(data), type(target))\n",
    "    print(data.dtype)\n",
    "    plt.imshow(data[0].numpy())\n",
    "    plt.show()\n",
    "    plt.imshow(target[\"masks\"][0].numpy(), cmap=\"gray\")\n",
    "    plt.show()\n",
    "    break"
   ],
   "id": "ca265dd0c35457b3"
  },
  {
   "metadata": {},
   "cell_type": "code",
   "outputs": [],
   "execution_count": null,
   "source": [
    "# Intersection over Union (IoU) loss\n",
    "class IoULoss(nn.Module):\n",
    "    def __init__(self, weight=None, size_average=True):\n",
    "        super(IoULoss, self).__init__()\n",
    "\n",
    "    def forward(self, inputs, targets):\n",
    "        # Sigmoid activation\n",
    "        inputs = torch.sigmoid(inputs)\n",
    "        \n",
    "        # Flattening\n",
    "        inputs = inputs.view(-1)\n",
    "        targets = targets.view(-1)\n",
    "        \n",
    "        # Intersection\n",
    "        intersection = (inputs * targets).sum()\n",
    "        \n",
    "        # Union\n",
    "        total = (inputs + targets).sum()\n",
    "        \n",
    "        # IoU\n",
    "        IoU = (intersection + 1e-8) / (total - intersection + 1e-8)\n",
    "        \n",
    "        return (1 - IoU) * 100  # Scale to 0-100 to make it more interpretable"
   ],
   "id": "229433ba0d454008"
  },
  {
   "metadata": {},
   "cell_type": "code",
   "outputs": [],
   "execution_count": null,
   "source": [
    "from project.unet import UNet\n",
    "\n",
    "model = UNet(n_channels=3, n_classes=1).to(\"cuda\")\n",
    "criterion = IoULoss()\n",
    "optimizer = torch.optim.Adam(model.parameters())"
   ],
   "id": "6bd91f5aa1f26c81"
  },
  {
   "metadata": {},
   "cell_type": "code",
   "outputs": [],
   "execution_count": null,
   "source": [
    "for epoch in range(100):\n",
    "    model.train()\n",
    "    for i, (data, target) in enumerate(train_loader):\n",
    "        data, target = data.to(\"cuda\"), target.to(\"cuda\")\n",
    "        \n",
    "        optimizer.zero_grad()\n",
    "        output = model(data)\n",
    "        loss = criterion(output, target)\n",
    "        loss.backward()\n",
    "        optimizer.step()\n",
    "        \n",
    "        if i % 20 == 0:\n",
    "            print(f\"Epoch {epoch}, Batch {i}, Loss: {loss.item()}\")"
   ],
   "id": "68b51aa96ff18c79"
  },
  {
   "metadata": {},
   "cell_type": "code",
   "outputs": [],
   "execution_count": null,
   "source": [
    "model.eval()\n",
    "test_set = ClinicDB(dataset_root, split=\"test\", transform=transform, target_transform=target_transform)\n",
    "test_loader = test_set.get_loader(batch_size=1, shuffle=True)\n",
    "\n",
    "for i, (data, target) in enumerate(test_loader):\n",
    "    data, target = data.to(\"cuda\"), target.to(\"cuda\")\n",
    "    output = model(data)\n",
    "    \n",
    "    plt.figure(figsize=(15, 5))\n",
    "    plt.subplot(1, 3, 1)\n",
    "    plt.imshow(data[0].cpu().numpy().transpose(1, 2, 0))\n",
    "    plt.title(\"Input\")\n",
    "    plt.axis(\"off\")\n",
    "    \n",
    "    plt.subplot(1, 3, 2)\n",
    "    \n",
    "    # Sigmoid activation\n",
    "    output = torch.sigmoid(output)\n",
    "    output = (output > 0.5).float()\n",
    "    \n",
    "    plt.imshow(output[0].cpu().numpy().transpose(1, 2, 0).squeeze(), cmap=\"gray\")\n",
    "    plt.title(\"Output\")\n",
    "    plt.axis(\"off\")\n",
    "    \n",
    "    plt.subplot(1, 3, 3)\n",
    "    plt.imshow(target[0].cpu().numpy().transpose(1, 2, 0).squeeze(), cmap=\"gray\")\n",
    "    plt.title(\"Target\")\n",
    "    plt.axis(\"off\")\n",
    "    \n",
    "    plt.show()\n",
    "    \n",
    "    if i == 5:\n",
    "        break\n",
    "    "
   ],
   "id": "48828803cb180e2a"
  },
  {
   "metadata": {},
   "cell_type": "code",
   "outputs": [],
   "execution_count": null,
   "source": [
    "from project.config import PROJECT_ROOT\n",
    "\n",
    "save_path = PROJECT_ROOT / \"models\" / \"clinicdb_unet.pth\"\n",
    "torch.save({\n",
    "    \"model\": model.state_dict(),\n",
    "    \"optimizer\": optimizer.state_dict(),\n",
    "    \"epoch\": epoch\n",
    "}, save_path)"
   ],
   "id": "befb721bcdadb3b"
  },
  {
   "metadata": {},
   "cell_type": "code",
   "outputs": [],
   "execution_count": null,
   "source": "",
   "id": "6c9fa44fdeead5b8"
  }
 ],
 "metadata": {
  "kernelspec": {
   "display_name": "Python 3",
   "language": "python",
   "name": "python3"
  },
  "language_info": {
   "codemirror_mode": {
    "name": "ipython",
    "version": 2
   },
   "file_extension": ".py",
   "mimetype": "text/x-python",
   "name": "python",
   "nbconvert_exporter": "python",
   "pygments_lexer": "ipython2",
   "version": "2.7.6"
  }
 },
 "nbformat": 4,
 "nbformat_minor": 5
}
