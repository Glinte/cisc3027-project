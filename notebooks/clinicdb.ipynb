{
 "cells": [
  {
   "metadata": {},
   "cell_type": "code",
   "outputs": [],
   "execution_count": null,
   "source": [
    "import pandas as pd\n",
    "import numpy as np\n",
    "import matplotlib.pyplot as plt\n",
    "from torchvision import tv_tensors\n",
    "import torch\n",
    "from torch import nn\n",
    "from torchvision.transforms import v2\n",
    "\n",
    "import project.utils\n",
    "%reload project\n",
    "from project.config import PROJECT_ROOT"
   ],
   "id": "cf12f3daceb0348"
  },
  {
   "metadata": {},
   "cell_type": "code",
   "outputs": [],
   "execution_count": null,
   "source": [
    "from project.data.cvc_clinic import ClinicDB\n",
    "\n",
    "transforms = v2.Compose([\n",
    "    v2.ToImage(),\n",
    "    v2.RandomPhotometricDistort(p=1),\n",
    "    # v2.RandomZoomOut(),\n",
    "    # v2.RandomIoUCrop(),\n",
    "    v2.RandomHorizontalFlip(p=1),\n",
    "    # v2.SanitizeBoundingBoxes(),\n",
    "    v2.ToDtype(torch.float32, scale=True),\n",
    "    v2.Normalize(mean=[0.485, 0.456, 0.406], std=[0.229, 0.224, 0.225]),\n",
    "])\n",
    "\n",
    "transforms"
   ],
   "id": "577b60d4920a33bd"
  },
  {
   "metadata": {},
   "cell_type": "code",
   "outputs": [],
   "execution_count": null,
   "source": [
    "dataset = ClinicDB(PROJECT_ROOT / \"data\", split=\"train\", transforms=transforms)\n",
    "dataset.data.shape, dataset[0][0].shape"
   ],
   "id": "76949ebb16a47e10"
  },
  {
   "metadata": {},
   "cell_type": "code",
   "outputs": [],
   "execution_count": null,
   "source": [
    "train_loader = dataset.get_loader(batch_size=5, shuffle=True)\n",
    "train_loader"
   ],
   "id": "743e483407bdb651"
  },
  {
   "metadata": {},
   "cell_type": "code",
   "outputs": [],
   "execution_count": null,
   "source": [
    "base_loader = ClinicDB(PROJECT_ROOT / \"data\", split=\"train\", transforms=None).get_loader(batch_size=1, shuffle=True)\n",
    "for i, (data, target) in enumerate(base_loader):\n",
    "    print(data.shape)\n",
    "    print(type(data), type(target))\n",
    "    print(data.dtype)\n",
    "    plt.imshow(data[0].numpy().transpose(1, 2, 0))\n",
    "    plt.show()\n",
    "    plt.imshow(target[\"masks\"][0].numpy().transpose(1, 2, 0), cmap=\"gray\")\n",
    "    plt.show()\n",
    "    break"
   ],
   "id": "b6a4eb82f2106b75"
  },
  {
   "metadata": {},
   "cell_type": "code",
   "outputs": [],
   "execution_count": null,
   "source": [
    "# Intersection over Union (IoU) loss\n",
    "class IoULoss(nn.Module):\n",
    "    def __init__(self, weight=None, size_average=True):\n",
    "        super(IoULoss, self).__init__()\n",
    "\n",
    "    def forward(self, inputs, targets):\n",
    "        # Sigmoid activation\n",
    "        inputs = torch.sigmoid(inputs)\n",
    "\n",
    "        # Flattening\n",
    "        inputs = inputs.view(-1)\n",
    "        targets = targets.view(-1)\n",
    "\n",
    "        # Intersection\n",
    "        intersection = (inputs * targets).sum()\n",
    "\n",
    "        # Union\n",
    "        total = (inputs + targets).sum()\n",
    "\n",
    "        # IoU\n",
    "        IoU = (intersection + 1e-8) / (total - intersection + 1e-8)\n",
    "\n",
    "        return (1 - IoU) * 100  # Scale to 0-100 to make it more interpretable"
   ],
   "id": "afbee410611f3310"
  },
  {
   "metadata": {},
   "cell_type": "code",
   "outputs": [],
   "execution_count": null,
   "source": [
    "%reload project\n",
    "from project.models.unet import UNet\n",
    "from project.models.vnet.vnet import BinaryDiceLoss\n",
    "\n",
    "torch.cuda.empty_cache()\n",
    "model = UNet(n_channels=3, n_classes=1).to(\"cuda\")\n",
    "# criterion = IoULoss()\n",
    "criterion = BinaryDiceLoss()\n",
    "optimizer = torch.optim.AdamW(model.parameters())"
   ],
   "id": "fbb15de8408ac3db"
  },
  {
   "metadata": {},
   "cell_type": "code",
   "outputs": [],
   "execution_count": null,
   "source": [
    "for epoch in range(100):\n",
    "    model.train()\n",
    "    for i, (data, target) in enumerate(train_loader):\n",
    "        mask = target[\"masks\"]\n",
    "        data, mask = data.to(\"cuda\"), mask.to(\"cuda\")\n",
    "\n",
    "        optimizer.zero_grad()\n",
    "        output = model(data)\n",
    "        loss = criterion(output, mask)\n",
    "        loss.backward()\n",
    "        optimizer.step()\n",
    "\n",
    "        if i % 20 == 0:\n",
    "            print(f\"Epoch {epoch}, Batch {i}, Loss: {loss.item()}\")"
   ],
   "id": "ea5e276eed75fdd5"
  },
  {
   "metadata": {},
   "cell_type": "code",
   "outputs": [],
   "execution_count": null,
   "source": [
    "model.eval()\n",
    "\n",
    "test_transforms = v2.Compose([\n",
    "    v2.ToImage(),\n",
    "    # v2.RandomPhotometricDistort(p=1),\n",
    "    # v2.RandomZoomOut(),\n",
    "    # v2.RandomIoUCrop(),\n",
    "    # v2.RandomHorizontalFlip(p=1),\n",
    "    # v2.SanitizeBoundingBoxes(),\n",
    "    v2.ToDtype(torch.float32, scale=True),\n",
    "    # v2.Normalize(mean=[0.485, 0.456, 0.406], std=[0.229, 0.224, 0.225]),\n",
    "])\n",
    "\n",
    "\n",
    "normalize = v2.Normalize(mean=[0.485, 0.456, 0.406], std=[0.229, 0.224, 0.225])\n",
    "\n",
    "test_set = ClinicDB(PROJECT_ROOT / \"data\", split=\"test\", transforms=test_transforms)\n",
    "test_loader = test_set.get_loader(batch_size=1, shuffle=True)\n",
    "\n",
    "for i, (data, target) in enumerate(test_loader):\n",
    "    data, target = data.to(\"cuda\"), target[\"masks\"].to(\"cuda\")\n",
    "    output = model(normalize(data))\n",
    "\n",
    "    plt.figure(figsize=(15, 5))\n",
    "    plt.subplot(1, 3, 1)\n",
    "    plt.imshow(data[0].cpu().numpy().transpose(1, 2, 0))\n",
    "    plt.title(\"Input\")\n",
    "    plt.axis(\"off\")\n",
    "\n",
    "    plt.subplot(1, 3, 2)\n",
    "\n",
    "    # Sigmoid activation\n",
    "    output = torch.sigmoid(output)\n",
    "    output = (output > 0.5).float()\n",
    "\n",
    "    plt.imshow(output[0].cpu().numpy().transpose(1, 2, 0).squeeze(), cmap=\"gray\")\n",
    "    plt.title(\"Output\")\n",
    "    plt.axis(\"off\")\n",
    "\n",
    "    plt.subplot(1, 3, 3)\n",
    "    plt.imshow(target[0].cpu().numpy().transpose(1, 2, 0).squeeze(), cmap=\"gray\")\n",
    "    plt.title(\"Target\")\n",
    "    plt.axis(\"off\")\n",
    "\n",
    "    plt.show()\n",
    "\n",
    "    if i == 5:\n",
    "        break\n"
   ],
   "id": "8f510cdccba39561"
  },
  {
   "metadata": {},
   "cell_type": "code",
   "outputs": [],
   "execution_count": null,
   "source": [
    "from project.config import PROJECT_ROOT\n",
    "\n",
    "save_path = PROJECT_ROOT / \"models\" / \"clinicdb_unet_distort.pth\"\n",
    "torch.save({\n",
    "    \"model\": model.state_dict(),\n",
    "    \"optimizer\": optimizer.state_dict(),\n",
    "    \"epoch\": epoch\n",
    "}, save_path)"
   ],
   "id": "ebb9e13a43f4c68"
  },
  {
   "metadata": {},
   "cell_type": "code",
   "outputs": [],
   "execution_count": null,
   "source": "",
   "id": "31f831d8a58419b1"
  }
 ],
 "metadata": {
  "kernelspec": {
   "display_name": ".venv",
   "language": "python",
   "name": "python3"
  },
  "language_info": {
   "codemirror_mode": {
    "name": "ipython",
    "version": 3
   },
   "file_extension": ".py",
   "mimetype": "text/x-python",
   "name": "python",
   "nbconvert_exporter": "python",
   "pygments_lexer": "ipython3",
   "version": "3.12.4"
  }
 },
 "nbformat": 4,
 "nbformat_minor": 5
}
